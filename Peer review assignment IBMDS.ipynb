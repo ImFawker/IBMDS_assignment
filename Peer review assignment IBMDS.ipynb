{
 "cells": [
  {
   "cell_type": "markdown",
   "id": "ee0ea3e6-b02f-439a-8a51-6c6262367acc",
   "metadata": {},
   "source": [
    "# My Jupyter notebook "
   ]
  },
  {
   "cell_type": "markdown",
   "id": "b4c489f8-d865-4702-a86f-5f0f2fb3f7af",
   "metadata": {},
   "source": [
    "This is a final assignment for Tools for Data Science"
   ]
  },
  {
   "cell_type": "markdown",
   "id": "d9392141-8cb9-47e2-ba76-095d6d4ad585",
   "metadata": {},
   "source": [
    "<ol>\n",
    "<li>Python</li>\n",
    "<li>SQL</li>\n",
    "<li>R</li>\n",
    "</ol>"
   ]
  },
  {
   "cell_type": "markdown",
   "id": "83e8203d-1730-49c3-90a8-79bb3ddfea7c",
   "metadata": {},
   "source": [
    "<ol>\n",
    "<li>Pandas</li>\n",
    "<li>TensorFlow</li>\n",
    "<li>Matplotlib</li>\n",
    "<li>Keras</li>\n",
    "</ol>"
   ]
  },
  {
   "cell_type": "markdown",
   "id": "63508c80-9300-4a2f-a325-70672da7a015",
   "metadata": {},
   "source": [
    "<ol>\n",
    "<li>MATLAB</li>\n",
    "<li>Apache Spark</li>\n",
    "<li>Excel</li>\n",
    "<li>SPSS</li>\n",
    "</ol>"
   ]
  },
  {
   "cell_type": "markdown",
   "id": "076be596-ec33-44cb-ba08-657666f68c15",
   "metadata": {},
   "source": [
    "introducing arithmetic expression"
   ]
  },
  {
   "cell_type": "code",
   "execution_count": 4,
   "id": "bcf417dc-4852-4969-8953-4f9d07e600cd",
   "metadata": {},
   "outputs": [
    {
     "data": {
      "text/plain": [
       "4"
      ]
     },
     "execution_count": 4,
     "metadata": {},
     "output_type": "execute_result"
    }
   ],
   "source": [
    "1+1\n",
    "2*2"
   ]
  },
  {
   "cell_type": "code",
   "execution_count": 10,
   "id": "bcb00d87-d6ae-4350-bf0a-72cd16c31e99",
   "metadata": {},
   "outputs": [
    {
     "name": "stdin",
     "output_type": "stream",
     "text": [
      "input time in hours:  3\n"
     ]
    },
    {
     "name": "stdout",
     "output_type": "stream",
     "text": [
      "180.0\n"
     ]
    }
   ],
   "source": [
    "hour = float(input(\"input time in hours: \"))\n",
    "time_in_minutes = hour*60\n",
    "print(time_in_minutes)"
   ]
  },
  {
   "cell_type": "markdown",
   "id": "675af2e0-e357-48db-ac73-08632c81f454",
   "metadata": {},
   "source": [
    "this is an objectives\n",
    "<ul>\n",
    "<li>Data science is used to analyse data</li>\n",
    "</ul> "
   ]
  },
  {
   "cell_type": "markdown",
   "id": "090d875a-335a-421f-88bf-e379800be812",
   "metadata": {},
   "source": [
    "Author's name: Manh Tung Vu"
   ]
  }
 ],
 "metadata": {
  "kernelspec": {
   "display_name": "Python",
   "language": "python",
   "name": "conda-env-python-py"
  },
  "language_info": {
   "codemirror_mode": {
    "name": "ipython",
    "version": 3
   },
   "file_extension": ".py",
   "mimetype": "text/x-python",
   "name": "python",
   "nbconvert_exporter": "python",
   "pygments_lexer": "ipython3",
   "version": "3.7.12"
  }
 },
 "nbformat": 4,
 "nbformat_minor": 5
}
